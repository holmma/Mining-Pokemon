{
 "cells": [
  {
   "cell_type": "code",
   "execution_count": 9,
   "metadata": {},
   "outputs": [],
   "source": [
    "import pandas as pd\n",
    "import numpy as np\n",
    "from Pokemonarena.Pokemon import Pokemon\n",
    "from pokemon_factory import Pokemon_Factory"
   ]
  },
  {
   "cell_type": "code",
   "execution_count": 10,
   "metadata": {},
   "outputs": [],
   "source": [
    "df_pokemon = pd.read_csv('pokemon.csv')\n",
    "df_mapping = pd.read_csv('pokemon_mapping.csv', encoding='cp1250', delimiter=';')"
   ]
  },
  {
   "cell_type": "code",
   "execution_count": null,
   "metadata": {},
   "outputs": [],
   "source": [
    "df_pokemon = df_pokemon.drop(['name', 'japanese_name'], axis = 1)\n",
    "df_mapping = df_mapping.drop(['Englisch'], axis = 1)\n",
    "df_mapping = df_mapping.dropna()\n",
    "df_mapping['Id']=df_mapping['Id'].astype('int32')\n",
    "df = df_pokemon.merge(df_mapping, how='inner', left_on=['pokedex_number'], right_on=['Id'])\n",
    "df = df.rename(columns={\"Deutsch\": \"name\", 'sp_attack' : 'specialAttack' , 'sp_defense' : 'specialDefense'})"
   ]
  },
  {
   "cell_type": "code",
   "execution_count": null,
   "metadata": {},
   "outputs": [],
   "source": [
    "columns = ['name', 'hp', 'attack' , 'defense' , 'specialAttack','specialDefense', 'speed']\n",
    "factory = Pokemon_Factory(df,columns)"
   ]
  },
  {
   "cell_type": "code",
   "execution_count": null,
   "metadata": {},
   "outputs": [],
   "source": [
    "factory = Pokemon_Factory(df,columns)\n",
    "pokelist = factory.create_Pokemon_Sample(801)"
   ]
  },
  {
   "cell_type": "code",
   "execution_count": null,
   "metadata": {},
   "outputs": [],
   "source": [
    "dfs = []\n",
    "for i in range(0, len(pokelist)):\n",
    "    for j in range(0, len(pokelist)):\n",
    "        if j != i:\n",
    "            fight = Fight(pokelist[i], pokelist[j])\n",
    "            dfs.append(pd.DataFrame.from_dict(fight.fight_ml()))"
   ]
  },
  {
   "cell_type": "code",
   "execution_count": null,
   "metadata": {},
   "outputs": [],
   "source": [
    "fight_df = pd.concat(dfs, axis=0)"
   ]
  },
  {
   "cell_type": "code",
   "execution_count": null,
   "metadata": {},
   "outputs": [],
   "source": [
    "fight_df.to_csv('fight_ml.csv')"
   ]
  }
 ],
 "metadata": {
  "language_info": {
   "codemirror_mode": {
    "name": "ipython",
    "version": 3
   },
   "file_extension": ".py",
   "mimetype": "text/x-python",
   "name": "python",
   "nbconvert_exporter": "python",
   "pygments_lexer": "ipython3",
   "version": "3.7.4-final"
  },
  "orig_nbformat": 2,
  "kernelspec": {
   "name": "python3",
   "display_name": "Python 3"
  }
 },
 "nbformat": 4,
 "nbformat_minor": 2
}