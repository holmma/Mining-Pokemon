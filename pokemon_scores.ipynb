{
 "cells": [
  {
   "cell_type": "code",
   "execution_count": 137,
   "metadata": {},
   "outputs": [],
   "source": [
    "# Imports\n",
    "import pandas as pd\n",
    "import numpy as np\n",
    "from Pokemonarena.Pokemon import Pokemon"
   ]
  },
  {
   "cell_type": "code",
   "execution_count": 138,
   "metadata": {
    "tags": []
   },
   "outputs": [
    {
     "output_type": "execute_result",
     "data": {
      "text/plain": "           name1  hp1  attack1  defense1  specialAttack1  specialDefense1  \\\n0       Zirpeise   77       85        51              55               51   \n1       Zirpeise   77       85        51              55               51   \n2       Zirpeise   77       85        51              55               51   \n3       Zirpeise   77       85        51              55               51   \n4       Zirpeise   77       85        51              55               51   \n...          ...  ...      ...       ...             ...              ...   \n640795    Wommel   40       45        40              55               40   \n640796    Wommel   40       45        40              55               40   \n640797    Wommel   40       45        40              55               40   \n640798    Wommel   40       45        40              55               40   \n640799    Wommel   40       45        40              55               40   \n\n        speed1       name2  hp2  attack2  defense2  specialAttack2  \\\n0           65   Pummeluff  115       45        20              45   \n1           65  Palimpalim   75       50        80              95   \n2           65  Schlurplek  110       85        95              80   \n3           65     Duokles   59      110       150              45   \n4           65     Yanmega   86       76        86             116   \n...        ...         ...  ...      ...       ...             ...   \n640795      84   Volcanion   80      110       120             130   \n640796      84   Cresselia  120       70       120              75   \n640797      84      Irokex   65       90       115              45   \n640798      84      Tannza   50       65        90              35   \n640799      84      Fukano   55       70        45              70   \n\n        specialDefense2  speed2  Gewonnen  \n0                    25      20      True  \n1                    90      65     False  \n2                    95      50     False  \n3                    49      35     False  \n4                    56      95     False  \n...                 ...     ...       ...  \n640795               90      70     False  \n640796              130      85     False  \n640797              115      58     False  \n640798               35      15     False  \n640799               50      60     False  \n\n[640800 rows x 15 columns]",
      "text/html": "<div>\n<style scoped>\n    .dataframe tbody tr th:only-of-type {\n        vertical-align: middle;\n    }\n\n    .dataframe tbody tr th {\n        vertical-align: top;\n    }\n\n    .dataframe thead th {\n        text-align: right;\n    }\n</style>\n<table border=\"1\" class=\"dataframe\">\n  <thead>\n    <tr style=\"text-align: right;\">\n      <th></th>\n      <th>name1</th>\n      <th>hp1</th>\n      <th>attack1</th>\n      <th>defense1</th>\n      <th>specialAttack1</th>\n      <th>specialDefense1</th>\n      <th>speed1</th>\n      <th>name2</th>\n      <th>hp2</th>\n      <th>attack2</th>\n      <th>defense2</th>\n      <th>specialAttack2</th>\n      <th>specialDefense2</th>\n      <th>speed2</th>\n      <th>Gewonnen</th>\n    </tr>\n  </thead>\n  <tbody>\n    <tr>\n      <th>0</th>\n      <td>Zirpeise</td>\n      <td>77</td>\n      <td>85</td>\n      <td>51</td>\n      <td>55</td>\n      <td>51</td>\n      <td>65</td>\n      <td>Pummeluff</td>\n      <td>115</td>\n      <td>45</td>\n      <td>20</td>\n      <td>45</td>\n      <td>25</td>\n      <td>20</td>\n      <td>True</td>\n    </tr>\n    <tr>\n      <th>1</th>\n      <td>Zirpeise</td>\n      <td>77</td>\n      <td>85</td>\n      <td>51</td>\n      <td>55</td>\n      <td>51</td>\n      <td>65</td>\n      <td>Palimpalim</td>\n      <td>75</td>\n      <td>50</td>\n      <td>80</td>\n      <td>95</td>\n      <td>90</td>\n      <td>65</td>\n      <td>False</td>\n    </tr>\n    <tr>\n      <th>2</th>\n      <td>Zirpeise</td>\n      <td>77</td>\n      <td>85</td>\n      <td>51</td>\n      <td>55</td>\n      <td>51</td>\n      <td>65</td>\n      <td>Schlurplek</td>\n      <td>110</td>\n      <td>85</td>\n      <td>95</td>\n      <td>80</td>\n      <td>95</td>\n      <td>50</td>\n      <td>False</td>\n    </tr>\n    <tr>\n      <th>3</th>\n      <td>Zirpeise</td>\n      <td>77</td>\n      <td>85</td>\n      <td>51</td>\n      <td>55</td>\n      <td>51</td>\n      <td>65</td>\n      <td>Duokles</td>\n      <td>59</td>\n      <td>110</td>\n      <td>150</td>\n      <td>45</td>\n      <td>49</td>\n      <td>35</td>\n      <td>False</td>\n    </tr>\n    <tr>\n      <th>4</th>\n      <td>Zirpeise</td>\n      <td>77</td>\n      <td>85</td>\n      <td>51</td>\n      <td>55</td>\n      <td>51</td>\n      <td>65</td>\n      <td>Yanmega</td>\n      <td>86</td>\n      <td>76</td>\n      <td>86</td>\n      <td>116</td>\n      <td>56</td>\n      <td>95</td>\n      <td>False</td>\n    </tr>\n    <tr>\n      <th>...</th>\n      <td>...</td>\n      <td>...</td>\n      <td>...</td>\n      <td>...</td>\n      <td>...</td>\n      <td>...</td>\n      <td>...</td>\n      <td>...</td>\n      <td>...</td>\n      <td>...</td>\n      <td>...</td>\n      <td>...</td>\n      <td>...</td>\n      <td>...</td>\n      <td>...</td>\n    </tr>\n    <tr>\n      <th>640795</th>\n      <td>Wommel</td>\n      <td>40</td>\n      <td>45</td>\n      <td>40</td>\n      <td>55</td>\n      <td>40</td>\n      <td>84</td>\n      <td>Volcanion</td>\n      <td>80</td>\n      <td>110</td>\n      <td>120</td>\n      <td>130</td>\n      <td>90</td>\n      <td>70</td>\n      <td>False</td>\n    </tr>\n    <tr>\n      <th>640796</th>\n      <td>Wommel</td>\n      <td>40</td>\n      <td>45</td>\n      <td>40</td>\n      <td>55</td>\n      <td>40</td>\n      <td>84</td>\n      <td>Cresselia</td>\n      <td>120</td>\n      <td>70</td>\n      <td>120</td>\n      <td>75</td>\n      <td>130</td>\n      <td>85</td>\n      <td>False</td>\n    </tr>\n    <tr>\n      <th>640797</th>\n      <td>Wommel</td>\n      <td>40</td>\n      <td>45</td>\n      <td>40</td>\n      <td>55</td>\n      <td>40</td>\n      <td>84</td>\n      <td>Irokex</td>\n      <td>65</td>\n      <td>90</td>\n      <td>115</td>\n      <td>45</td>\n      <td>115</td>\n      <td>58</td>\n      <td>False</td>\n    </tr>\n    <tr>\n      <th>640798</th>\n      <td>Wommel</td>\n      <td>40</td>\n      <td>45</td>\n      <td>40</td>\n      <td>55</td>\n      <td>40</td>\n      <td>84</td>\n      <td>Tannza</td>\n      <td>50</td>\n      <td>65</td>\n      <td>90</td>\n      <td>35</td>\n      <td>35</td>\n      <td>15</td>\n      <td>False</td>\n    </tr>\n    <tr>\n      <th>640799</th>\n      <td>Wommel</td>\n      <td>40</td>\n      <td>45</td>\n      <td>40</td>\n      <td>55</td>\n      <td>40</td>\n      <td>84</td>\n      <td>Fukano</td>\n      <td>55</td>\n      <td>70</td>\n      <td>45</td>\n      <td>70</td>\n      <td>50</td>\n      <td>60</td>\n      <td>False</td>\n    </tr>\n  </tbody>\n</table>\n<p>640800 rows × 15 columns</p>\n</div>"
     },
     "metadata": {},
     "execution_count": 138
    }
   ],
   "source": [
    "# Hol die Pokemonliste\n",
    "fight_df = pd.read_parquet('fight_ml.parquet')\n",
    "# Print\n",
    "fight_df"
   ]
  },
  {
   "cell_type": "code",
   "execution_count": 139,
   "metadata": {},
   "outputs": [],
   "source": [
    "# Gegenprüfen: Default score mit den Kampfdaten\n",
    "def defaultScore(attack1, sattack1, defense1, sdefens1, hp1, speed1, attack2, sattack2, defense2, sdefens2, hp2, speed2, win):\n",
    "    # Defauilt scoure 1\n",
    "    defaultScoure1 = hp1 + attack1 +sattack1 + defense1 + sdefens1 + speed1\n",
    "    # Defauilt scoure 2\n",
    "    defaultScoure2 = hp2 + attack2 +sattack2 + defense2 + sdefens2 + speed2\n",
    "\n",
    "    # Vergleich die Scores\n",
    "    if (defaultScoure1 > defaultScoure2) & (win == True):\n",
    "        return True\n",
    "    elif(defaultScoure1 < defaultScoure2) & (win == False):\n",
    "        return True\n",
    "    else:\n",
    "        return False"
   ]
  },
  {
   "cell_type": "code",
   "execution_count": 140,
   "metadata": {},
   "outputs": [],
   "source": [
    "# Get max states\n",
    "maxAttack = fight_df['attack1'].max()\n",
    "maxSpecialAttack = fight_df['specialAttack1'].max()\n",
    "maxDefense = fight_df['defense1'].max()\n",
    "maxSpecialDefense = fight_df['specialDefense1'].max()\n",
    "maxSpeed = fight_df['hp1'].max()\n",
    "maxHP = fight_df['speed1'].max()"
   ]
  },
  {
   "cell_type": "code",
   "execution_count": 141,
   "metadata": {},
   "outputs": [],
   "source": [
    "# Gegenprüfen: Avarage score mit den Kampfdaten\n",
    "def percentScore(attack1, sattack1, defense1, sdefense1, hp1, speed1, attack2, sattack2, defense2, sdefense2, hp2, speed2, win):\n",
    "\n",
    "    # Calculate the average score for pokemon1\n",
    "    maxAttack1 = 100/maxAttack*attack1\n",
    "    maxSpecialAttack1 = 100/maxSpecialAttack*sattack1\n",
    "    maxDefense1 = 100/maxDefense*defense1\n",
    "    maxSpecialDefense1 = 100/maxSpecialDefense*sdefense1\n",
    "    maxSpeed1 = 100/maxSpeed*speed1\n",
    "    maxHP1 = 100/maxHP*hp1\n",
    "    # Calculate the avarage score\n",
    "    maxScore1 = round(maxAttack1 + maxSpecialAttack1 + maxDefense1 + maxSpecialDefense1 + maxSpeed1 + maxHP1)\n",
    "    \n",
    "    # Calculate the average score for pokemon2\n",
    "    maxAttack2 = 100/maxAttack*attack2\n",
    "    maxSpecialAttack2 = 100/maxSpecialAttack*sattack2\n",
    "    maxDefense2 = 100/maxDefense*defense2\n",
    "    maxSpecialDefense2 = 100/maxSpecialDefense*sdefense2\n",
    "    maxSpeed2 = 100/maxSpeed*speed2\n",
    "    maxHP2 = 100/maxHP*hp2\n",
    "    # Calculate the avarage score\n",
    "    maxScore2 = round(maxAttack2 + maxSpecialAttack2 + maxDefense2 + maxSpecialDefense2 + maxSpeed2 + maxHP2)\n",
    "\n",
    "   # Vergleich die Scores\n",
    "    if (maxScore1 > maxScore2) & (win == True):\n",
    "        return True\n",
    "    elif(maxScore1 < maxScore2) & (win == False):\n",
    "        return True\n",
    "    else:\n",
    "        return False  "
   ]
  },
  {
   "cell_type": "code",
   "execution_count": 142,
   "metadata": {},
   "outputs": [],
   "source": [
    "# Average states\n",
    "aAttack = sum(fight_df['attack1']) / len(fight_df['attack1'])\n",
    "aSAttack = sum(fight_df['specialAttack1']) / len(fight_df['specialAttack1'])\n",
    "aDefense = sum(fight_df['defense1']) / len(fight_df['defense1'])\n",
    "aSDefense = sum(fight_df['specialDefense1']) / len(fight_df['specialDefense1'])\n",
    "aHP = sum(fight_df['hp1']) / len(fight_df['hp1'])\n",
    "aSpeed = sum(fight_df['speed1']) / len(fight_df['speed1'])"
   ]
  },
  {
   "cell_type": "code",
   "execution_count": 143,
   "metadata": {},
   "outputs": [],
   "source": [
    "# Gegenprüfen: Durchschnitt score mit den Kampfdaten\n",
    "def averageScore(attack1, sattack1, defense1, sdefens1, hp1, speed1, attack2, sattack2, defense2, sdefens2, hp2, speed2, win):\n",
    "    \n",
    "    # Score\n",
    "    aScore1 = 0\n",
    "\n",
    "    # Higher than average\n",
    "    if aAttack < attack1:\n",
    "        aScore1 += 1\n",
    "    if aSAttack < sattack1:\n",
    "        aScore1 += 1\n",
    "    if aDefense < defense1:\n",
    "        aScore1 += 1\n",
    "    if aSDefense < sdefens1:\n",
    "        aScore1 += 1\n",
    "    if aHP < hp1:\n",
    "        aScore1 += 1\n",
    "    if aSpeed < speed1:\n",
    "        aScore1 += 1\n",
    "\n",
    "    # Extra points\n",
    "    if aAttack < aSAttack:\n",
    "        if aSAttack < sattack1:\n",
    "            aScore1 += 1\n",
    "            if aSpeed < speed1:\n",
    "                aScore1 += 1\n",
    "            if aSDefense < sdefens1:\n",
    "                aScore1 += 1\n",
    "    else:\n",
    "        if aAttack < attack1:\n",
    "            aScore1 += 1\n",
    "            if aSpeed < speed1:\n",
    "                aScore1 += 1\n",
    "            if aDefense < defense1:\n",
    "                aScore1 += 1\n",
    "  \n",
    "    # Score\n",
    "    aScore2 = 0\n",
    "\n",
    "    # Higher than average\n",
    "    if aAttack < attack2:\n",
    "        aScore2 += 1\n",
    "    if aSAttack < sattack2:\n",
    "        aScore2 += 1\n",
    "    if aDefense < defense2:\n",
    "        aScore2 += 1\n",
    "    if aSDefense < sdefens2:\n",
    "        aScore2 += 1\n",
    "    if aHP < hp2:\n",
    "        aScore2 += 1\n",
    "    if aSpeed < speed2:\n",
    "        aScore2 += 1\n",
    "\n",
    "    # Extra points\n",
    "    if aAttack < aSAttack:\n",
    "        if aSAttack < sattack2:\n",
    "            aScore2 += 1\n",
    "            if aSpeed < speed2:\n",
    "                aScore2 += 1\n",
    "            if aSDefense < sdefens2:\n",
    "                aScore2 += 1\n",
    "    else:\n",
    "        if aAttack < attack2:\n",
    "            aScore2 += 1\n",
    "            if aSpeed < speed2:\n",
    "                aScore2 += 1\n",
    "            if aDefense < defense2:\n",
    "                aScore2 += 1\n",
    "            \n",
    "    \n",
    "    # Vergleich die Scores\n",
    "    if (aScore1 > aScore2) & (win == True):\n",
    "        return True\n",
    "    elif(aScore1 < aScore2) & (win == False):\n",
    "        return True\n",
    "    else:\n",
    "        return False"
   ]
  },
  {
   "cell_type": "code",
   "execution_count": 123,
   "metadata": {},
   "outputs": [],
   "source": [
    "# Check default score\n",
    "fight_df['Score1'] = fight_df.apply(lambda x: defaultScore(x['attack1'], x['specialAttack1'], x['defense1'], x['specialDefense1'], x['hp1'], x['speed1'], x['attack2'], x['specialAttack2'], x['defense2'], x['specialDefense2'], x['hp2'], x['speed2'], x['Gewonnen']),axis=1)"
   ]
  },
  {
   "cell_type": "code",
   "execution_count": 124,
   "metadata": {},
   "outputs": [],
   "source": [
    "# Check procent score\n",
    "fight_df['Score2'] = fight_df.apply(lambda x: percentScore(x['attack1'], x['specialAttack1'], x['defense1'], x['specialDefense1'], x['hp1'], x['speed1'], x['attack2'], x['specialAttack2'], x['defense2'], x['specialDefense2'], x['hp2'], x['speed2'], x['Gewonnen']),axis=1)"
   ]
  },
  {
   "cell_type": "code",
   "execution_count": 131,
   "metadata": {},
   "outputs": [],
   "source": [
    "# Check average score\n",
    "fight_df['Score3'] = fight_df.apply(lambda x: averageScore(x['attack1'], x['specialAttack1'], x['defense1'], x['specialDefense1'], x['hp1'], x['speed1'], x['attack2'], x['specialAttack2'], x['defense2'], x['specialDefense2'], x['hp2'], x['speed2'], x['Gewonnen']),axis=1)"
   ]
  },
  {
   "cell_type": "code",
   "execution_count": 132,
   "metadata": {},
   "outputs": [
    {
     "output_type": "execute_result",
     "data": {
      "text/plain": "           name1  hp1  attack1  defense1  specialAttack1  specialDefense1  \\\n0       Zirpeise   77       85        51              55               51   \n1       Zirpeise   77       85        51              55               51   \n2       Zirpeise   77       85        51              55               51   \n3       Zirpeise   77       85        51              55               51   \n4       Zirpeise   77       85        51              55               51   \n...          ...  ...      ...       ...             ...              ...   \n640795    Wommel   40       45        40              55               40   \n640796    Wommel   40       45        40              55               40   \n640797    Wommel   40       45        40              55               40   \n640798    Wommel   40       45        40              55               40   \n640799    Wommel   40       45        40              55               40   \n\n        speed1       name2  hp2  attack2  defense2  specialAttack2  \\\n0           65   Pummeluff  115       45        20              45   \n1           65  Palimpalim   75       50        80              95   \n2           65  Schlurplek  110       85        95              80   \n3           65     Duokles   59      110       150              45   \n4           65     Yanmega   86       76        86             116   \n...        ...         ...  ...      ...       ...             ...   \n640795      84   Volcanion   80      110       120             130   \n640796      84   Cresselia  120       70       120              75   \n640797      84      Irokex   65       90       115              45   \n640798      84      Tannza   50       65        90              35   \n640799      84      Fukano   55       70        45              70   \n\n        specialDefense2  speed2  Gewonnen  Score1  Score2  Score3  \n0                    25      20      True    True    True    True  \n1                    90      65     False    True    True    True  \n2                    95      50     False    True    True    True  \n3                    49      35     False    True    True    True  \n4                    56      95     False    True    True    True  \n...                 ...     ...       ...     ...     ...     ...  \n640795               90      70     False    True    True    True  \n640796              130      85     False    True    True    True  \n640797              115      58     False    True    True    True  \n640798               35      15     False   False   False   False  \n640799               50      60     False    True    True   False  \n\n[640800 rows x 18 columns]",
      "text/html": "<div>\n<style scoped>\n    .dataframe tbody tr th:only-of-type {\n        vertical-align: middle;\n    }\n\n    .dataframe tbody tr th {\n        vertical-align: top;\n    }\n\n    .dataframe thead th {\n        text-align: right;\n    }\n</style>\n<table border=\"1\" class=\"dataframe\">\n  <thead>\n    <tr style=\"text-align: right;\">\n      <th></th>\n      <th>name1</th>\n      <th>hp1</th>\n      <th>attack1</th>\n      <th>defense1</th>\n      <th>specialAttack1</th>\n      <th>specialDefense1</th>\n      <th>speed1</th>\n      <th>name2</th>\n      <th>hp2</th>\n      <th>attack2</th>\n      <th>defense2</th>\n      <th>specialAttack2</th>\n      <th>specialDefense2</th>\n      <th>speed2</th>\n      <th>Gewonnen</th>\n      <th>Score1</th>\n      <th>Score2</th>\n      <th>Score3</th>\n    </tr>\n  </thead>\n  <tbody>\n    <tr>\n      <th>0</th>\n      <td>Zirpeise</td>\n      <td>77</td>\n      <td>85</td>\n      <td>51</td>\n      <td>55</td>\n      <td>51</td>\n      <td>65</td>\n      <td>Pummeluff</td>\n      <td>115</td>\n      <td>45</td>\n      <td>20</td>\n      <td>45</td>\n      <td>25</td>\n      <td>20</td>\n      <td>True</td>\n      <td>True</td>\n      <td>True</td>\n      <td>True</td>\n    </tr>\n    <tr>\n      <th>1</th>\n      <td>Zirpeise</td>\n      <td>77</td>\n      <td>85</td>\n      <td>51</td>\n      <td>55</td>\n      <td>51</td>\n      <td>65</td>\n      <td>Palimpalim</td>\n      <td>75</td>\n      <td>50</td>\n      <td>80</td>\n      <td>95</td>\n      <td>90</td>\n      <td>65</td>\n      <td>False</td>\n      <td>True</td>\n      <td>True</td>\n      <td>True</td>\n    </tr>\n    <tr>\n      <th>2</th>\n      <td>Zirpeise</td>\n      <td>77</td>\n      <td>85</td>\n      <td>51</td>\n      <td>55</td>\n      <td>51</td>\n      <td>65</td>\n      <td>Schlurplek</td>\n      <td>110</td>\n      <td>85</td>\n      <td>95</td>\n      <td>80</td>\n      <td>95</td>\n      <td>50</td>\n      <td>False</td>\n      <td>True</td>\n      <td>True</td>\n      <td>True</td>\n    </tr>\n    <tr>\n      <th>3</th>\n      <td>Zirpeise</td>\n      <td>77</td>\n      <td>85</td>\n      <td>51</td>\n      <td>55</td>\n      <td>51</td>\n      <td>65</td>\n      <td>Duokles</td>\n      <td>59</td>\n      <td>110</td>\n      <td>150</td>\n      <td>45</td>\n      <td>49</td>\n      <td>35</td>\n      <td>False</td>\n      <td>True</td>\n      <td>True</td>\n      <td>True</td>\n    </tr>\n    <tr>\n      <th>4</th>\n      <td>Zirpeise</td>\n      <td>77</td>\n      <td>85</td>\n      <td>51</td>\n      <td>55</td>\n      <td>51</td>\n      <td>65</td>\n      <td>Yanmega</td>\n      <td>86</td>\n      <td>76</td>\n      <td>86</td>\n      <td>116</td>\n      <td>56</td>\n      <td>95</td>\n      <td>False</td>\n      <td>True</td>\n      <td>True</td>\n      <td>True</td>\n    </tr>\n    <tr>\n      <th>...</th>\n      <td>...</td>\n      <td>...</td>\n      <td>...</td>\n      <td>...</td>\n      <td>...</td>\n      <td>...</td>\n      <td>...</td>\n      <td>...</td>\n      <td>...</td>\n      <td>...</td>\n      <td>...</td>\n      <td>...</td>\n      <td>...</td>\n      <td>...</td>\n      <td>...</td>\n      <td>...</td>\n      <td>...</td>\n      <td>...</td>\n    </tr>\n    <tr>\n      <th>640795</th>\n      <td>Wommel</td>\n      <td>40</td>\n      <td>45</td>\n      <td>40</td>\n      <td>55</td>\n      <td>40</td>\n      <td>84</td>\n      <td>Volcanion</td>\n      <td>80</td>\n      <td>110</td>\n      <td>120</td>\n      <td>130</td>\n      <td>90</td>\n      <td>70</td>\n      <td>False</td>\n      <td>True</td>\n      <td>True</td>\n      <td>True</td>\n    </tr>\n    <tr>\n      <th>640796</th>\n      <td>Wommel</td>\n      <td>40</td>\n      <td>45</td>\n      <td>40</td>\n      <td>55</td>\n      <td>40</td>\n      <td>84</td>\n      <td>Cresselia</td>\n      <td>120</td>\n      <td>70</td>\n      <td>120</td>\n      <td>75</td>\n      <td>130</td>\n      <td>85</td>\n      <td>False</td>\n      <td>True</td>\n      <td>True</td>\n      <td>True</td>\n    </tr>\n    <tr>\n      <th>640797</th>\n      <td>Wommel</td>\n      <td>40</td>\n      <td>45</td>\n      <td>40</td>\n      <td>55</td>\n      <td>40</td>\n      <td>84</td>\n      <td>Irokex</td>\n      <td>65</td>\n      <td>90</td>\n      <td>115</td>\n      <td>45</td>\n      <td>115</td>\n      <td>58</td>\n      <td>False</td>\n      <td>True</td>\n      <td>True</td>\n      <td>True</td>\n    </tr>\n    <tr>\n      <th>640798</th>\n      <td>Wommel</td>\n      <td>40</td>\n      <td>45</td>\n      <td>40</td>\n      <td>55</td>\n      <td>40</td>\n      <td>84</td>\n      <td>Tannza</td>\n      <td>50</td>\n      <td>65</td>\n      <td>90</td>\n      <td>35</td>\n      <td>35</td>\n      <td>15</td>\n      <td>False</td>\n      <td>False</td>\n      <td>False</td>\n      <td>False</td>\n    </tr>\n    <tr>\n      <th>640799</th>\n      <td>Wommel</td>\n      <td>40</td>\n      <td>45</td>\n      <td>40</td>\n      <td>55</td>\n      <td>40</td>\n      <td>84</td>\n      <td>Fukano</td>\n      <td>55</td>\n      <td>70</td>\n      <td>45</td>\n      <td>70</td>\n      <td>50</td>\n      <td>60</td>\n      <td>False</td>\n      <td>True</td>\n      <td>True</td>\n      <td>False</td>\n    </tr>\n  </tbody>\n</table>\n<p>640800 rows × 18 columns</p>\n</div>"
     },
     "metadata": {},
     "execution_count": 132
    }
   ],
   "source": [
    "fight_df"
   ]
  },
  {
   "cell_type": "code",
   "execution_count": 133,
   "metadata": {
    "tags": []
   },
   "outputs": [
    {
     "output_type": "stream",
     "name": "stdout",
     "text": "Standartscore: 12.16%\n"
    }
   ],
   "source": [
    "# Auswerten\n",
    "# Alle einträge\n",
    "alleEintraege = fight_df['Score1'].count()\n",
    "\n",
    "# Default Scroe\n",
    "s1 = int(fight_df['Score1'].value_counts()[0])\n",
    "s1 = round(s1/alleEintraege*100, 2)\n",
    "\n",
    "print('Standartscore: ' + str(s1) + '%')"
   ]
  },
  {
   "cell_type": "code",
   "execution_count": 134,
   "metadata": {
    "tags": []
   },
   "outputs": [
    {
     "output_type": "stream",
     "name": "stdout",
     "text": "Prozentscore: 13.12%\n"
    }
   ],
   "source": [
    "# Auswerten\n",
    "# Alle einträge\n",
    "alleEintraege = fight_df['Score2'].count()\n",
    "\n",
    "# Default Scroe\n",
    "s2 = int(fight_df['Score2'].value_counts()[0])\n",
    "s2 = round(s2/alleEintraege*100, 2)\n",
    "\n",
    "print('Prozentscore: '+  str(s2) + '%')"
   ]
  },
  {
   "cell_type": "code",
   "execution_count": 136,
   "metadata": {
    "tags": []
   },
   "outputs": [
    {
     "output_type": "stream",
     "name": "stdout",
     "text": "Durchschnettscore: 23.95%\n"
    }
   ],
   "source": [
    "# Auswerten\n",
    "# Alle einträge\n",
    "alleEintraege = fight_df['Score3'].count()\n",
    "\n",
    "# Default Scroe\n",
    "s3 = int(fight_df['Score3'].value_counts()[0])\n",
    "s3 = round(s3/alleEintraege*100, 2)\n",
    "\n",
    "print('Durchschnettscore: '+  str(s3) + '%')"
   ]
  },
  {
   "cell_type": "code",
   "execution_count": null,
   "metadata": {},
   "outputs": [],
   "source": []
  }
 ],
 "metadata": {
  "language_info": {
   "codemirror_mode": {
    "name": "ipython",
    "version": 3
   },
   "file_extension": ".py",
   "mimetype": "text/x-python",
   "name": "python",
   "nbconvert_exporter": "python",
   "pygments_lexer": "ipython3",
   "version": "3.7.4-final"
  },
  "orig_nbformat": 2,
  "kernelspec": {
   "name": "python_defaultSpec_1594825077923",
   "display_name": "Python 3.8.3 64-bit"
  }
 },
 "nbformat": 4,
 "nbformat_minor": 2
}