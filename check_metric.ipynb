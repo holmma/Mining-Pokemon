{
 "cells": [
  {
   "cell_type": "code",
   "execution_count": 1,
   "metadata": {},
   "outputs": [],
   "source": [
    "import pandas as pd\n",
    "import numpy as np\n",
    "from Pokemonarena.Pokemon import Pokemon\n",
    "from pokemon_factory import Pokemon_Factory\n",
    "from Pokemonarena.fight import Fight"
   ]
  },
  {
   "cell_type": "code",
   "execution_count": 2,
   "metadata": {},
   "outputs": [],
   "source": [
    "df_pokemon = pd.read_csv('pokemon.csv')\n",
    "df_mapping = pd.read_csv('pokemon_mapping.csv', encoding='cp1250', delimiter=';')"
   ]
  },
  {
   "cell_type": "code",
   "execution_count": 3,
   "metadata": {},
   "outputs": [],
   "source": [
    "df_pokemon = df_pokemon.drop(['name', 'japanese_name'], axis = 1)\n",
    "df_mapping = df_mapping.drop(['Englisch'], axis = 1)\n",
    "df_mapping = df_mapping.dropna()\n",
    "df_mapping['Id']=df_mapping['Id'].astype('int32')\n",
    "df = df_pokemon.merge(df_mapping, how='inner', left_on=['pokedex_number'], right_on=['Id'])\n",
    "df = df.rename(columns={\"Deutsch\": \"name\", 'sp_attack' : 'specialAttack' , 'sp_defense' : 'specialDefense'})"
   ]
  },
  {
   "cell_type": "code",
   "execution_count": 4,
   "metadata": {},
   "outputs": [],
   "source": [
    "columns = ['name', 'hp', 'attack' , 'defense' , 'specialAttack','specialDefense', 'speed']"
   ]
  },
  {
   "cell_type": "code",
   "execution_count": 5,
   "metadata": {},
   "outputs": [],
   "source": [
    "factory = Pokemon_Factory(df,columns)"
   ]
  },
  {
   "cell_type": "code",
   "execution_count": 6,
   "metadata": {},
   "outputs": [
    {
     "output_type": "stream",
     "name": "stdout",
     "text": "name = Strepoli, hp = 85, attack = 105, defense = 85,specialAttack = 40, specialDefense = 50, speed = 40, score = None\nname = Machomei, hp = 90, attack = 130, defense = 80,specialAttack = 65, specialDefense = 85, speed = 55, score = None\nname = Iscalar, hp = 53, attack = 54, defense = 53,specialAttack = 37, specialDefense = 46, speed = 45, score = None\nname = Geckarbor, hp = 40, attack = 45, defense = 35,specialAttack = 65, specialDefense = 55, speed = 70, score = None\nname = Relaxo, hp = 160, attack = 110, defense = 65,specialAttack = 65, specialDefense = 110, speed = 30, score = None\nname = Aggrostella, hp = 50, attack = 63, defense = 152,specialAttack = 53, specialDefense = 142, speed = 35, score = None\nname = Dragoran, hp = 91, attack = 134, defense = 95,specialAttack = 100, specialDefense = 100, speed = 80, score = None\nname = Despotar, hp = 100, attack = 164, defense = 150,specialAttack = 95, specialDefense = 120, speed = 71, score = None\nname = Krawell, hp = 97, attack = 132, defense = 77,specialAttack = 62, specialDefense = 67, speed = 43, score = None\nname = Skallyk, hp = 70, attack = 55, defense = 75,specialAttack = 45, specialDefense = 65, speed = 60, score = None\nname = Smogon, hp = 40, attack = 65, defense = 95,specialAttack = 60, specialDefense = 45, speed = 35, score = None\nname = Lugia, hp = 106, attack = 90, defense = 130,specialAttack = 90, specialDefense = 154, speed = 110, score = None\nname = Wattzapf, hp = 50, attack = 47, defense = 50,specialAttack = 57, specialDefense = 50, speed = 65, score = None\nname = Koalelu, hp = 65, attack = 115, defense = 65,specialAttack = 75, specialDefense = 95, speed = 65, score = None\nname = Mamolida, hp = 165, attack = 75, defense = 80,specialAttack = 40, specialDefense = 45, speed = 65, score = None\nname = Tangela, hp = 65, attack = 55, defense = 115,specialAttack = 100, specialDefense = 40, speed = 60, score = None\nname = Qurtel, hp = 70, attack = 85, defense = 140,specialAttack = 85, specialDefense = 70, speed = 20, score = None\nname = Isso, hp = 95, attack = 23, defense = 48,specialAttack = 23, specialDefense = 48, speed = 23, score = None\nname = Molunk, hp = 48, attack = 44, defense = 40,specialAttack = 71, specialDefense = 40, speed = 77, score = None\nname = Hoothoot, hp = 60, attack = 30, defense = 30,specialAttack = 36, specialDefense = 56, speed = 50, score = None\n"
    }
   ],
   "source": [
    "pokelist = factory.create_Pokemon_Samples(20)\n",
    "for d,i in enumerate(pokelist):\n",
    "    print(i.to_String())"
   ]
  },
  {
   "cell_type": "code",
   "execution_count": 7,
   "metadata": {},
   "outputs": [],
   "source": [
    "fight = Fight(pokelist[0], pokelist[1])"
   ]
  },
  {
   "cell_type": "code",
   "execution_count": 8,
   "metadata": {},
   "outputs": [
    {
     "output_type": "execute_result",
     "data": {
      "text/plain": "'name = Strepoli, hp = 8.529411764705884, attack = 105, defense = 85,specialAttack = 40, specialDefense = 50, speed = 40, score = None'"
     },
     "metadata": {},
     "execution_count": 8
    }
   ],
   "source": [
    "fight.fight()"
   ]
  },
  {
   "cell_type": "code",
   "execution_count": null,
   "metadata": {},
   "outputs": [],
   "source": []
  }
 ],
 "metadata": {
  "language_info": {
   "codemirror_mode": {
    "name": "ipython",
    "version": 3
   },
   "file_extension": ".py",
   "mimetype": "text/x-python",
   "name": "python",
   "nbconvert_exporter": "python",
   "pygments_lexer": "ipython3",
   "version": "3.7.4-final"
  },
  "orig_nbformat": 2,
  "kernelspec": {
   "name": "python3",
   "display_name": "Python 3"
  }
 },
 "nbformat": 4,
 "nbformat_minor": 2
}