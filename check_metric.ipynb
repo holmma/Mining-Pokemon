{
 "cells": [
  {
   "cell_type": "code",
   "execution_count": 64,
   "metadata": {},
   "outputs": [],
   "source": [
    "import pandas as pd\n",
    "import numpy as np\n",
    "from Pokemonarena.Pokemon import Pokemon\n",
    "from pokemon_factory import Pokemon_Factory\n",
    "from Pokemonarena.fight import Fight"
   ]
  },
  {
   "cell_type": "code",
   "execution_count": 65,
   "metadata": {},
   "outputs": [],
   "source": [
    "df_pokemon = pd.read_csv('pokemon.csv')\n",
    "df_mapping = pd.read_csv('pokemon_mapping.csv', encoding='cp1250', delimiter=';')"
   ]
  },
  {
   "cell_type": "code",
   "execution_count": 66,
   "metadata": {},
   "outputs": [],
   "source": [
    "df_pokemon = df_pokemon.drop(['name', 'japanese_name'], axis = 1)\n",
    "df_mapping = df_mapping.drop(['Englisch'], axis = 1)\n",
    "df_mapping = df_mapping.dropna()\n",
    "df_mapping['Id']=df_mapping['Id'].astype('int32')\n",
    "df = df_pokemon.merge(df_mapping, how='inner', left_on=['pokedex_number'], right_on=['Id'])\n",
    "df = df.rename(columns={\"Deutsch\": \"name\", 'sp_attack' : 'specialAttack' , 'sp_defense' : 'specialDefense'})"
   ]
  },
  {
   "cell_type": "code",
   "execution_count": 67,
   "metadata": {},
   "outputs": [],
   "source": [
    "df['score'] = df['hp'] + df['attack'] + df['specialAttack'] + 1*df['defense']+ 1.7*df['specialDefense'] + df['speed']/60"
   ]
  },
  {
   "cell_type": "code",
   "execution_count": 68,
   "metadata": {},
   "outputs": [],
   "source": [
    "columns = ['name', 'hp', 'attack' , 'defense' , 'specialAttack','specialDefense', 'speed', 'score']"
   ]
  },
  {
   "cell_type": "code",
   "execution_count": 69,
   "metadata": {},
   "outputs": [],
   "source": [
    "factory = Pokemon_Factory(df,columns)\n",
    "pokelist = factory.create_Pokemon_Sample(100)"
   ]
  },
  {
   "cell_type": "code",
   "execution_count": 70,
   "metadata": {},
   "outputs": [],
   "source": [
    "metric_check = []"
   ]
  },
  {
   "cell_type": "code",
   "execution_count": 71,
   "metadata": {},
   "outputs": [],
   "source": [
    "for i in range(0, len(pokelist)):\n",
    "    for j in range(0, len(pokelist)):\n",
    "        if j != i:\n",
    "            fight = Fight(pokelist[i], pokelist[j])\n",
    "            metric_check.append(fight.fight())"
   ]
  },
  {
   "cell_type": "code",
   "execution_count": 72,
   "metadata": {},
   "outputs": [
    {
     "output_type": "execute_result",
     "data": {
      "text/plain": "{False: 905, True: 8995}"
     },
     "metadata": {},
     "execution_count": 72
    }
   ],
   "source": [
    "unique, counts = np.unique(np.asanyarray(metric_check), return_counts=True)\n",
    "dict(zip(unique, counts))"
   ]
  },
  {
   "cell_type": "code",
   "execution_count": null,
   "metadata": {},
   "outputs": [],
   "source": []
  }
 ],
 "metadata": {
  "language_info": {
   "codemirror_mode": {
    "name": "ipython",
    "version": 3
   },
   "file_extension": ".py",
   "mimetype": "text/x-python",
   "name": "python",
   "nbconvert_exporter": "python",
   "pygments_lexer": "ipython3",
   "version": "3.7.4-final"
  },
  "orig_nbformat": 2,
  "kernelspec": {
   "name": "python3",
   "display_name": "Python 3"
  }
 },
 "nbformat": 4,
 "nbformat_minor": 2
}