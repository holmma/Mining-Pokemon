{
 "cells": [
  {
   "cell_type": "code",
   "execution_count": 1,
   "metadata": {},
   "outputs": [],
   "source": [
    "import pandas as pd\n",
    "import numpy as np\n",
    "from sklearn.metrics import confusion_matrix\n",
    "from sklearn.metrics import accuracy_score\n",
    "from sklearn.metrics import classification_report\n",
    "from sklearn.linear_model import LogisticRegression\n",
    "from sklearn.ensemble import RandomForestClassifier\n",
    "from sklearn.svm import SVC\n",
    "from sklearn.model_selection import train_test_split\n",
    "import tensorflow as tf\n",
    "import tensorflow.compat.v1 as tf1"
   ]
  },
  {
   "cell_type": "code",
   "execution_count": 3,
   "metadata": {},
   "outputs": [],
   "source": [
    "fight_df = pd.read_parquet('fight_ml.parquet')"
   ]
  },
  {
   "cell_type": "code",
   "execution_count": 5,
   "metadata": {},
   "outputs": [
    {
     "output_type": "execute_result",
     "data": {
      "text/plain": "           name1  hp1  attack1  defense1  specialAttack1  specialDefense1  \\\n0       Zirpeise   77       85        51              55               51   \n1       Zirpeise   77       85        51              55               51   \n2       Zirpeise   77       85        51              55               51   \n3       Zirpeise   77       85        51              55               51   \n4       Zirpeise   77       85        51              55               51   \n...          ...  ...      ...       ...             ...              ...   \n640795    Wommel   40       45        40              55               40   \n640796    Wommel   40       45        40              55               40   \n640797    Wommel   40       45        40              55               40   \n640798    Wommel   40       45        40              55               40   \n640799    Wommel   40       45        40              55               40   \n\n        speed1       name2  hp2  attack2  defense2  specialAttack2  \\\n0           65   Pummeluff  115       45        20              45   \n1           65  Palimpalim   75       50        80              95   \n2           65  Schlurplek  110       85        95              80   \n3           65     Duokles   59      110       150              45   \n4           65     Yanmega   86       76        86             116   \n...        ...         ...  ...      ...       ...             ...   \n640795      84   Volcanion   80      110       120             130   \n640796      84   Cresselia  120       70       120              75   \n640797      84      Irokex   65       90       115              45   \n640798      84      Tannza   50       65        90              35   \n640799      84      Fukano   55       70        45              70   \n\n        specialDefense2  speed2  Gewonnen  \n0                    25      20      True  \n1                    90      65     False  \n2                    95      50     False  \n3                    49      35     False  \n4                    56      95     False  \n...                 ...     ...       ...  \n640795               90      70     False  \n640796              130      85     False  \n640797              115      58     False  \n640798               35      15     False  \n640799               50      60     False  \n\n[640800 rows x 15 columns]",
      "text/html": "<div>\n<style scoped>\n    .dataframe tbody tr th:only-of-type {\n        vertical-align: middle;\n    }\n\n    .dataframe tbody tr th {\n        vertical-align: top;\n    }\n\n    .dataframe thead th {\n        text-align: right;\n    }\n</style>\n<table border=\"1\" class=\"dataframe\">\n  <thead>\n    <tr style=\"text-align: right;\">\n      <th></th>\n      <th>name1</th>\n      <th>hp1</th>\n      <th>attack1</th>\n      <th>defense1</th>\n      <th>specialAttack1</th>\n      <th>specialDefense1</th>\n      <th>speed1</th>\n      <th>name2</th>\n      <th>hp2</th>\n      <th>attack2</th>\n      <th>defense2</th>\n      <th>specialAttack2</th>\n      <th>specialDefense2</th>\n      <th>speed2</th>\n      <th>Gewonnen</th>\n    </tr>\n  </thead>\n  <tbody>\n    <tr>\n      <td>0</td>\n      <td>Zirpeise</td>\n      <td>77</td>\n      <td>85</td>\n      <td>51</td>\n      <td>55</td>\n      <td>51</td>\n      <td>65</td>\n      <td>Pummeluff</td>\n      <td>115</td>\n      <td>45</td>\n      <td>20</td>\n      <td>45</td>\n      <td>25</td>\n      <td>20</td>\n      <td>True</td>\n    </tr>\n    <tr>\n      <td>1</td>\n      <td>Zirpeise</td>\n      <td>77</td>\n      <td>85</td>\n      <td>51</td>\n      <td>55</td>\n      <td>51</td>\n      <td>65</td>\n      <td>Palimpalim</td>\n      <td>75</td>\n      <td>50</td>\n      <td>80</td>\n      <td>95</td>\n      <td>90</td>\n      <td>65</td>\n      <td>False</td>\n    </tr>\n    <tr>\n      <td>2</td>\n      <td>Zirpeise</td>\n      <td>77</td>\n      <td>85</td>\n      <td>51</td>\n      <td>55</td>\n      <td>51</td>\n      <td>65</td>\n      <td>Schlurplek</td>\n      <td>110</td>\n      <td>85</td>\n      <td>95</td>\n      <td>80</td>\n      <td>95</td>\n      <td>50</td>\n      <td>False</td>\n    </tr>\n    <tr>\n      <td>3</td>\n      <td>Zirpeise</td>\n      <td>77</td>\n      <td>85</td>\n      <td>51</td>\n      <td>55</td>\n      <td>51</td>\n      <td>65</td>\n      <td>Duokles</td>\n      <td>59</td>\n      <td>110</td>\n      <td>150</td>\n      <td>45</td>\n      <td>49</td>\n      <td>35</td>\n      <td>False</td>\n    </tr>\n    <tr>\n      <td>4</td>\n      <td>Zirpeise</td>\n      <td>77</td>\n      <td>85</td>\n      <td>51</td>\n      <td>55</td>\n      <td>51</td>\n      <td>65</td>\n      <td>Yanmega</td>\n      <td>86</td>\n      <td>76</td>\n      <td>86</td>\n      <td>116</td>\n      <td>56</td>\n      <td>95</td>\n      <td>False</td>\n    </tr>\n    <tr>\n      <td>...</td>\n      <td>...</td>\n      <td>...</td>\n      <td>...</td>\n      <td>...</td>\n      <td>...</td>\n      <td>...</td>\n      <td>...</td>\n      <td>...</td>\n      <td>...</td>\n      <td>...</td>\n      <td>...</td>\n      <td>...</td>\n      <td>...</td>\n      <td>...</td>\n      <td>...</td>\n    </tr>\n    <tr>\n      <td>640795</td>\n      <td>Wommel</td>\n      <td>40</td>\n      <td>45</td>\n      <td>40</td>\n      <td>55</td>\n      <td>40</td>\n      <td>84</td>\n      <td>Volcanion</td>\n      <td>80</td>\n      <td>110</td>\n      <td>120</td>\n      <td>130</td>\n      <td>90</td>\n      <td>70</td>\n      <td>False</td>\n    </tr>\n    <tr>\n      <td>640796</td>\n      <td>Wommel</td>\n      <td>40</td>\n      <td>45</td>\n      <td>40</td>\n      <td>55</td>\n      <td>40</td>\n      <td>84</td>\n      <td>Cresselia</td>\n      <td>120</td>\n      <td>70</td>\n      <td>120</td>\n      <td>75</td>\n      <td>130</td>\n      <td>85</td>\n      <td>False</td>\n    </tr>\n    <tr>\n      <td>640797</td>\n      <td>Wommel</td>\n      <td>40</td>\n      <td>45</td>\n      <td>40</td>\n      <td>55</td>\n      <td>40</td>\n      <td>84</td>\n      <td>Irokex</td>\n      <td>65</td>\n      <td>90</td>\n      <td>115</td>\n      <td>45</td>\n      <td>115</td>\n      <td>58</td>\n      <td>False</td>\n    </tr>\n    <tr>\n      <td>640798</td>\n      <td>Wommel</td>\n      <td>40</td>\n      <td>45</td>\n      <td>40</td>\n      <td>55</td>\n      <td>40</td>\n      <td>84</td>\n      <td>Tannza</td>\n      <td>50</td>\n      <td>65</td>\n      <td>90</td>\n      <td>35</td>\n      <td>35</td>\n      <td>15</td>\n      <td>False</td>\n    </tr>\n    <tr>\n      <td>640799</td>\n      <td>Wommel</td>\n      <td>40</td>\n      <td>45</td>\n      <td>40</td>\n      <td>55</td>\n      <td>40</td>\n      <td>84</td>\n      <td>Fukano</td>\n      <td>55</td>\n      <td>70</td>\n      <td>45</td>\n      <td>70</td>\n      <td>50</td>\n      <td>60</td>\n      <td>False</td>\n    </tr>\n  </tbody>\n</table>\n<p>640800 rows × 15 columns</p>\n</div>"
     },
     "metadata": {},
     "execution_count": 5
    }
   ],
   "source": [
    "fight_df"
   ]
  },
  {
   "cell_type": "code",
   "execution_count": 6,
   "metadata": {},
   "outputs": [],
   "source": [
    "fight_df = fight_df.sample(10000)"
   ]
  },
  {
   "cell_type": "code",
   "execution_count": 7,
   "metadata": {},
   "outputs": [],
   "source": [
    "X = fight_df.drop(['Gewonnen', 'name1', 'name2'], axis = 1)\n",
    "y = fight_df['Gewonnen']\n",
    "\n",
    "X_train, X_test, y_train, y_test = train_test_split(X, y, test_size=0.33, random_state=42)"
   ]
  },
  {
   "cell_type": "code",
   "execution_count": 5,
   "metadata": {},
   "outputs": [
    {
     "output_type": "stream",
     "name": "stdout",
     "text": "0.920809215753036\n[[96445  8375]\n [ 8371 98273]]\n              precision    recall  f1-score   support\n\n       False       0.92      0.92      0.92    104820\n        True       0.92      0.92      0.92    106644\n\n    accuracy                           0.92    211464\n   macro avg       0.92      0.92      0.92    211464\nweighted avg       0.92      0.92      0.92    211464\n\n"
    }
   ],
   "source": [
    "model = LogisticRegression()\n",
    "model.fit(X_train,y_train)\n",
    "predictions = model.predict(X_test)\n",
    "print(accuracy_score(y_test, predictions))\n",
    "print(confusion_matrix(y_test, predictions))\n",
    "print(classification_report(y_test, predictions))"
   ]
  },
  {
   "cell_type": "code",
   "execution_count": 6,
   "metadata": {},
   "outputs": [
    {
     "output_type": "stream",
     "name": "stdout",
     "text": "0.9691153104074453\n[[102522   2298]\n [  4233 102411]]\n              precision    recall  f1-score   support\n\n       False       0.96      0.98      0.97    104820\n        True       0.98      0.96      0.97    106644\n\n    accuracy                           0.97    211464\n   macro avg       0.97      0.97      0.97    211464\nweighted avg       0.97      0.97      0.97    211464\n\n"
    }
   ],
   "source": [
    "model = RandomForestClassifier()\n",
    "model.fit(X_train,y_train)\n",
    "predictions = model.predict(X_test)\n",
    "print(accuracy_score(y_test, predictions))\n",
    "print(confusion_matrix(y_test, predictions))\n",
    "print(classification_report(y_test, predictions))"
   ]
  },
  {
   "cell_type": "code",
   "execution_count": 8,
   "metadata": {},
   "outputs": [
    {
     "output_type": "stream",
     "name": "stdout",
     "text": "0.923030303030303\n[[1524  138]\n [ 116 1522]]\n              precision    recall  f1-score   support\n\n       False       0.93      0.92      0.92      1662\n        True       0.92      0.93      0.92      1638\n\n    accuracy                           0.92      3300\n   macro avg       0.92      0.92      0.92      3300\nweighted avg       0.92      0.92      0.92      3300\n\n"
    }
   ],
   "source": [
    "model = SVC(kernel = 'linear')\n",
    "model.fit(X_train,y_train)\n",
    "predictions = model.predict(X_test)\n",
    "print(accuracy_score(y_test, predictions))\n",
    "print(confusion_matrix(y_test, predictions))\n",
    "print(classification_report(y_test, predictions))"
   ]
  },
  {
   "cell_type": "code",
   "execution_count": 7,
   "metadata": {},
   "outputs": [
    {
     "output_type": "error",
     "ename": "AttributeError",
     "evalue": "module 'tensorflow' has no attribute 'placeholder'",
     "traceback": [
      "\u001b[1;31m---------------------------------------------------------------------------\u001b[0m",
      "\u001b[1;31mAttributeError\u001b[0m                            Traceback (most recent call last)",
      "\u001b[1;32m<ipython-input-7-29d0a12adf7b>\u001b[0m in \u001b[0;36m<module>\u001b[1;34m\u001b[0m\n\u001b[0;32m     12\u001b[0m \u001b[1;31m# declare the training data placeholders\u001b[0m\u001b[1;33m\u001b[0m\u001b[1;33m\u001b[0m\u001b[1;33m\u001b[0m\u001b[0m\n\u001b[0;32m     13\u001b[0m \u001b[1;31m# input x : 12 features\u001b[0m\u001b[1;33m\u001b[0m\u001b[1;33m\u001b[0m\u001b[1;33m\u001b[0m\u001b[0m\n\u001b[1;32m---> 14\u001b[1;33m \u001b[0mx\u001b[0m \u001b[1;33m=\u001b[0m \u001b[0mtf\u001b[0m\u001b[1;33m.\u001b[0m\u001b[0mplaceholder\u001b[0m\u001b[1;33m(\u001b[0m\u001b[0mtf\u001b[0m\u001b[1;33m.\u001b[0m\u001b[0mfloat32\u001b[0m\u001b[1;33m,\u001b[0m \u001b[1;33m[\u001b[0m\u001b[1;32mNone\u001b[0m\u001b[1;33m,\u001b[0m \u001b[1;36m12\u001b[0m\u001b[1;33m]\u001b[0m\u001b[1;33m)\u001b[0m\u001b[1;33m\u001b[0m\u001b[1;33m\u001b[0m\u001b[0m\n\u001b[0m\u001b[0;32m     15\u001b[0m \u001b[1;31m# output data placeholder - 2 true/false\u001b[0m\u001b[1;33m\u001b[0m\u001b[1;33m\u001b[0m\u001b[1;33m\u001b[0m\u001b[0m\n\u001b[0;32m     16\u001b[0m \u001b[0my\u001b[0m \u001b[1;33m=\u001b[0m \u001b[0mtf\u001b[0m\u001b[1;33m.\u001b[0m\u001b[0mplaceholder\u001b[0m\u001b[1;33m(\u001b[0m\u001b[0mtf\u001b[0m\u001b[1;33m.\u001b[0m\u001b[0mfloat32\u001b[0m\u001b[1;33m,\u001b[0m \u001b[1;33m[\u001b[0m\u001b[1;32mNone\u001b[0m\u001b[1;33m,\u001b[0m \u001b[1;36m2\u001b[0m\u001b[1;33m]\u001b[0m\u001b[1;33m)\u001b[0m\u001b[1;33m\u001b[0m\u001b[1;33m\u001b[0m\u001b[0m\n",
      "\u001b[1;31mAttributeError\u001b[0m: module 'tensorflow' has no attribute 'placeholder'"
     ]
    }
   ],
   "source": [
    "\n",
    "tf1.disable_v2_behavior()\n",
    "\n",
    "# split data into training and test\n",
    "X_train = fight_df.sample(int(len(fight_df) * 0.6))\n",
    "\n",
    "X_test = fight_df[~fight_df.isin(X_train)].dropna()\n",
    "\n",
    "#  optimisation variables\n",
    "num_hidden_nodes = 300\n",
    "learning_rate = 0.8\n",
    "epochs = 10\n",
    "batch_size = int(len(fight_df) * 0.6 /epochs)\n",
    "\n",
    "# declare the training data placeholders\n",
    "# input x : 12 features\n",
    "x = tf.placeholder(tf.float32, [None, 12])\n",
    "# output data placeholder - 2 true/false\n",
    "y = tf.placeholder(tf.float32, [None, 2])\n",
    "\n",
    "# weights connecting the input to the 1st hidden layer\n",
    "W1 = tf.Variable(tf.random_normal([12, num_hidden_nodes], stddev=0.03), name='W1')\n",
    "b1 = tf.Variable(tf.random_normal([num_hidden_nodes]), name='b1')\n",
    "\n",
    "# calculate the output of the hidden layer\n",
    "hidden_out1 = tf.add(tf.matmul(x, W1), b1)\n",
    "hidden_out1 = tf.nn.relu(hidden_out1)\n",
    "\n",
    "# weights connecting the 1st hidden layer to the 2nd hidden layer\n",
    "W2 = tf.Variable(tf.random_normal([num_hidden_nodes, num_hidden_nodes], stddev=0.03), name='W2')\n",
    "b2 = tf.Variable(tf.random_normal([num_hidden_nodes]), name='b2')\n",
    "\n",
    "# calculate the output of the hidden layer\n",
    "hidden_out2 = tf.add(tf.matmul(hidden_out1, W2), b2)\n",
    "hidden_out2 = tf.nn.relu(hidden_out2)\n",
    "\n",
    "# weights connecting the hidden layer to the output layer\n",
    "W3 = tf.Variable(tf.random_normal([num_hidden_nodes, 2], stddev=0.03), name='W3')\n",
    "b3 = tf.Variable(tf.random_normal([2]), name='b3')\n",
    "\n",
    "# calculate the output layer output - softmax activation function\n",
    "# output layer\n",
    "y_ = tf.nn.sigmoid(tf.add(tf.matmul(hidden_out2, W3), b3))\n",
    "\n",
    "y_clipped = tf.clip_by_value(y_, 1e-10, 0.9999999)\n",
    "cross_entropy = -tf.reduce_mean(tf.reduce_sum(y * tf.log(y_clipped)\n",
    "                                                + (1 - y) * tf.log(1 - y_clipped), axis=1))\n",
    "# add an optimiser\n",
    "optimiser = tf.train.GradientDescentOptimizer(learning_rate=learning_rate).minimize(cross_entropy)\n",
    "\n",
    "# setup initialisation operator\n",
    "init_op = tf.global_variables_initializer()\n",
    "\n",
    "# define an accuracy assessment operation\n",
    "correct_prediction = tf.equal(tf.argmax(y, 1), tf.argmax(y_, 1))\n",
    "accuracy = tf.reduce_mean(tf.cast(correct_prediction, tf.float32))\n",
    "\n",
    "# start the session\n",
    "with tf.Session() as sess:\n",
    "    # initialise the variables\n",
    "    sess.run(init_op)\n",
    "    total_batch = int(len(X_train) / batch_size)\n",
    "    for epoch in range(epochs):\n",
    "        avg_cost = 0\n",
    "        for i in range(total_batch):\n",
    "            x_sample = X_train.sample(batch_size)\n",
    "            y_sample = pd.get_dummies(x_sample['Gewonnen'])\n",
    "            _, c = sess.run([optimiser, cross_entropy],\n",
    "                            feed_dict={x: x_sample.loc[:, 'hp1':'speed2'], y:y_sample})\n",
    "        avg_cost += c / total_batch\n",
    "        print(\"Epoch:\", (epoch + 1), \"cost =\", \"{:.3f}\".format(avg_cost))\n",
    "    print(sess.run(accuracy, feed_dict={x: X_test.loc[:, 'hp1':'speed2'], y: pd.get_dummies(X_test['Gewonnen'])}))\n",
    "    print(\"a\")"
   ]
  },
  {
   "cell_type": "code",
   "execution_count": null,
   "metadata": {},
   "outputs": [],
   "source": []
  }
 ],
 "metadata": {
  "language_info": {
   "codemirror_mode": {
    "name": "ipython",
    "version": 3
   },
   "file_extension": ".py",
   "mimetype": "text/x-python",
   "name": "python",
   "nbconvert_exporter": "python",
   "pygments_lexer": "ipython3",
   "version": "3.7.0-final"
  },
  "orig_nbformat": 2,
  "kernelspec": {
   "name": "python3",
   "display_name": "Python 3"
  }
 },
 "nbformat": 4,
 "nbformat_minor": 2
}