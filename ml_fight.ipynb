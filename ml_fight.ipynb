{
 "cells": [
  {
   "cell_type": "code",
   "execution_count": 11,
   "metadata": {},
   "outputs": [],
   "source": [
    "import pandas as pd\n",
    "import numpy as np\n",
    "from Pokemonarena.Pokemon import Pokemon\n",
    "from pokemon_factory import Pokemon_Factory\n",
    "from Pokemonarena.fight import Fight\n",
    "from sklearn.metrics import confusion_matrix\n",
    "from sklearn.metrics import accuracy_score\n",
    "from sklearn.metrics import classification_report"
   ]
  },
  {
   "cell_type": "code",
   "execution_count": 2,
   "metadata": {},
   "outputs": [],
   "source": [
    "df_pokemon = pd.read_csv('pokemon.csv')\n",
    "df_mapping = pd.read_csv('pokemon_mapping.csv', encoding='cp1250', delimiter=';')"
   ]
  },
  {
   "cell_type": "code",
   "execution_count": 3,
   "metadata": {},
   "outputs": [],
   "source": [
    "df_pokemon = df_pokemon.drop(['name', 'japanese_name'], axis = 1)\n",
    "df_mapping = df_mapping.drop(['Englisch'], axis = 1)\n",
    "df_mapping = df_mapping.dropna()\n",
    "df_mapping['Id']=df_mapping['Id'].astype('int32')\n",
    "df = df_pokemon.merge(df_mapping, how='inner', left_on=['pokedex_number'], right_on=['Id'])\n",
    "df = df.rename(columns={\"Deutsch\": \"name\", 'sp_attack' : 'specialAttack' , 'sp_defense' : 'specialDefense'})"
   ]
  },
  {
   "cell_type": "code",
   "execution_count": 4,
   "metadata": {},
   "outputs": [],
   "source": [
    "columns = ['name', 'hp', 'attack' , 'defense' , 'specialAttack','specialDefense', 'speed']\n",
    "factory = Pokemon_Factory(df,columns)"
   ]
  },
  {
   "cell_type": "code",
   "execution_count": 5,
   "metadata": {},
   "outputs": [],
   "source": [
    "factory = Pokemon_Factory(df,columns)\n",
    "pokelist = factory.create_Pokemon_Sample(40)"
   ]
  },
  {
   "cell_type": "code",
   "execution_count": 6,
   "metadata": {
    "tags": [
     "outputPrepend",
     "outputPrepend",
     "outputPrepend",
     "outputPrepend",
     "outputPrepend"
    ]
   },
   "outputs": [],
   "source": [
    "dfs = []\n",
    "for i in range(0, len(pokelist)):\n",
    "    for j in range(0, len(pokelist)):\n",
    "        if j != i:\n",
    "            fight = Fight(pokelist[i], pokelist[j])\n",
    "            dfs.append(pd.DataFrame.from_dict(fight.fight_ml()))"
   ]
  },
  {
   "cell_type": "code",
   "execution_count": 7,
   "metadata": {},
   "outputs": [],
   "source": [
    "fight_df = pd.concat(dfs, axis=0)"
   ]
  },
  {
   "cell_type": "code",
   "execution_count": 9,
   "metadata": {},
   "outputs": [],
   "source": [
    "from sklearn.linear_model import LogisticRegression\n",
    "from sklearn.model_selection import train_test_split\n",
    "\n",
    "X = fight_df.drop(['Gewonnen', 'name1', 'name2'], axis = 1)\n",
    "y = fight_df['Gewonnen']\n",
    "\n",
    "X_train, X_test, y_train, y_test = train_test_split(X, y, test_size=0.33, random_state=42)"
   ]
  },
  {
   "cell_type": "code",
   "execution_count": 12,
   "metadata": {},
   "outputs": [
    {
     "output_type": "stream",
     "name": "stdout",
     "text": "0.9320388349514563\n[[229  19]\n [ 16 251]]\n              precision    recall  f1-score   support\n\n       False       0.93      0.92      0.93       248\n        True       0.93      0.94      0.93       267\n\n    accuracy                           0.93       515\n   macro avg       0.93      0.93      0.93       515\nweighted avg       0.93      0.93      0.93       515\n\n"
    }
   ],
   "source": [
    "model = LogisticRegression()\n",
    "model.fit(X_train,y_train)\n",
    "predictions = model.predict(X_test)\n",
    "print(accuracy_score(y_test, predictions))\n",
    "print(confusion_matrix(y_test, predictions))\n",
    "print(classification_report(y_test, predictions))"
   ]
  },
  {
   "cell_type": "code",
   "execution_count": null,
   "metadata": {},
   "outputs": [],
   "source": []
  }
 ],
 "metadata": {
  "language_info": {
   "codemirror_mode": {
    "name": "ipython",
    "version": 3
   },
   "file_extension": ".py",
   "mimetype": "text/x-python",
   "name": "python",
   "nbconvert_exporter": "python",
   "pygments_lexer": "ipython3",
   "version": "3.7.4-final"
  },
  "orig_nbformat": 2,
  "kernelspec": {
   "name": "python3",
   "display_name": "Python 3"
  }
 },
 "nbformat": 4,
 "nbformat_minor": 2
}